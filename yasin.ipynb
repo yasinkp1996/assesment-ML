{
 "cells": [
  {
   "cell_type": "markdown",
   "id": "0f1231ec",
   "metadata": {},
   "source": [
    "# Data Preparation\n"
   ]
  },
  {
   "cell_type": "code",
   "execution_count": 76,
   "id": "85d441e5",
   "metadata": {},
   "outputs": [],
   "source": [
    "import matplotlib.pyplot as plt\n",
    "import pandas as pd\n",
    "import numpy as np\n",
    "import seaborn as sns\n",
    "\n",
    "from sklearn.preprocessing import LabelEncoder\n",
    "from sklearn.model_selection import train_test_split\n",
    "from sklearn import metrics\n",
    "\n",
    "from sklearn.datasets import make_classification\n",
    "from imblearn.over_sampling import RandomOverSampler\n",
    "from imblearn.under_sampling import RandomUnderSampler\n",
    "from collections import Counter\n",
    "\n",
    "from sklearn.preprocessing import LabelEncoder"
   ]
  },
  {
   "cell_type": "code",
   "execution_count": 77,
   "id": "8be70c06",
   "metadata": {},
   "outputs": [],
   "source": [
    "df= pd.read_csv(\"adult.data.csv\")"
   ]
  },
  {
   "cell_type": "code",
   "execution_count": 78,
   "id": "7b412761",
   "metadata": {},
   "outputs": [
    {
     "data": {
      "text/html": [
       "<div>\n",
       "<style scoped>\n",
       "    .dataframe tbody tr th:only-of-type {\n",
       "        vertical-align: middle;\n",
       "    }\n",
       "\n",
       "    .dataframe tbody tr th {\n",
       "        vertical-align: top;\n",
       "    }\n",
       "\n",
       "    .dataframe thead th {\n",
       "        text-align: right;\n",
       "    }\n",
       "</style>\n",
       "<table border=\"1\" class=\"dataframe\">\n",
       "  <thead>\n",
       "    <tr style=\"text-align: right;\">\n",
       "      <th></th>\n",
       "      <th>39</th>\n",
       "      <th>State-gov</th>\n",
       "      <th>77516</th>\n",
       "      <th>Bachelors</th>\n",
       "      <th>13</th>\n",
       "      <th>Never-married</th>\n",
       "      <th>Adm-clerical</th>\n",
       "      <th>Not-in-family</th>\n",
       "      <th>White</th>\n",
       "      <th>Male</th>\n",
       "      <th>2174</th>\n",
       "      <th>0</th>\n",
       "      <th>40</th>\n",
       "      <th>United-States</th>\n",
       "      <th>&lt;=50K</th>\n",
       "    </tr>\n",
       "  </thead>\n",
       "  <tbody>\n",
       "    <tr>\n",
       "      <th>0</th>\n",
       "      <td>50</td>\n",
       "      <td>Self-emp-not-inc</td>\n",
       "      <td>83311</td>\n",
       "      <td>Bachelors</td>\n",
       "      <td>13</td>\n",
       "      <td>Married-civ-spouse</td>\n",
       "      <td>Exec-managerial</td>\n",
       "      <td>Husband</td>\n",
       "      <td>White</td>\n",
       "      <td>Male</td>\n",
       "      <td>0</td>\n",
       "      <td>0</td>\n",
       "      <td>13</td>\n",
       "      <td>United-States</td>\n",
       "      <td>&lt;=50K</td>\n",
       "    </tr>\n",
       "    <tr>\n",
       "      <th>1</th>\n",
       "      <td>38</td>\n",
       "      <td>Private</td>\n",
       "      <td>215646</td>\n",
       "      <td>HS-grad</td>\n",
       "      <td>9</td>\n",
       "      <td>Divorced</td>\n",
       "      <td>Handlers-cleaners</td>\n",
       "      <td>Not-in-family</td>\n",
       "      <td>White</td>\n",
       "      <td>Male</td>\n",
       "      <td>0</td>\n",
       "      <td>0</td>\n",
       "      <td>40</td>\n",
       "      <td>United-States</td>\n",
       "      <td>&lt;=50K</td>\n",
       "    </tr>\n",
       "    <tr>\n",
       "      <th>2</th>\n",
       "      <td>53</td>\n",
       "      <td>Private</td>\n",
       "      <td>234721</td>\n",
       "      <td>11th</td>\n",
       "      <td>7</td>\n",
       "      <td>Married-civ-spouse</td>\n",
       "      <td>Handlers-cleaners</td>\n",
       "      <td>Husband</td>\n",
       "      <td>Black</td>\n",
       "      <td>Male</td>\n",
       "      <td>0</td>\n",
       "      <td>0</td>\n",
       "      <td>40</td>\n",
       "      <td>United-States</td>\n",
       "      <td>&lt;=50K</td>\n",
       "    </tr>\n",
       "    <tr>\n",
       "      <th>3</th>\n",
       "      <td>28</td>\n",
       "      <td>Private</td>\n",
       "      <td>338409</td>\n",
       "      <td>Bachelors</td>\n",
       "      <td>13</td>\n",
       "      <td>Married-civ-spouse</td>\n",
       "      <td>Prof-specialty</td>\n",
       "      <td>Wife</td>\n",
       "      <td>Black</td>\n",
       "      <td>Female</td>\n",
       "      <td>0</td>\n",
       "      <td>0</td>\n",
       "      <td>40</td>\n",
       "      <td>Cuba</td>\n",
       "      <td>&lt;=50K</td>\n",
       "    </tr>\n",
       "    <tr>\n",
       "      <th>4</th>\n",
       "      <td>37</td>\n",
       "      <td>Private</td>\n",
       "      <td>284582</td>\n",
       "      <td>Masters</td>\n",
       "      <td>14</td>\n",
       "      <td>Married-civ-spouse</td>\n",
       "      <td>Exec-managerial</td>\n",
       "      <td>Wife</td>\n",
       "      <td>White</td>\n",
       "      <td>Female</td>\n",
       "      <td>0</td>\n",
       "      <td>0</td>\n",
       "      <td>40</td>\n",
       "      <td>United-States</td>\n",
       "      <td>&lt;=50K</td>\n",
       "    </tr>\n",
       "  </tbody>\n",
       "</table>\n",
       "</div>"
      ],
      "text/plain": [
       "   39          State-gov   77516   Bachelors   13        Never-married  \\\n",
       "0  50   Self-emp-not-inc   83311   Bachelors   13   Married-civ-spouse   \n",
       "1  38            Private  215646     HS-grad    9             Divorced   \n",
       "2  53            Private  234721        11th    7   Married-civ-spouse   \n",
       "3  28            Private  338409   Bachelors   13   Married-civ-spouse   \n",
       "4  37            Private  284582     Masters   14   Married-civ-spouse   \n",
       "\n",
       "         Adm-clerical   Not-in-family   White     Male   2174   0   40  \\\n",
       "0     Exec-managerial         Husband   White     Male      0   0   13   \n",
       "1   Handlers-cleaners   Not-in-family   White     Male      0   0   40   \n",
       "2   Handlers-cleaners         Husband   Black     Male      0   0   40   \n",
       "3      Prof-specialty            Wife   Black   Female      0   0   40   \n",
       "4     Exec-managerial            Wife   White   Female      0   0   40   \n",
       "\n",
       "    United-States   <=50K  \n",
       "0   United-States   <=50K  \n",
       "1   United-States   <=50K  \n",
       "2   United-States   <=50K  \n",
       "3            Cuba   <=50K  \n",
       "4   United-States   <=50K  "
      ]
     },
     "execution_count": 78,
     "metadata": {},
     "output_type": "execute_result"
    }
   ],
   "source": [
    "df.head()"
   ]
  },
  {
   "cell_type": "code",
   "execution_count": 79,
   "id": "7e02d68b",
   "metadata": {},
   "outputs": [],
   "source": [
    "header = ['age','workclass','fnlwgt','education','education-num','marital-status','occupation','relationship','race','sex','capital-gain','capital-loss','hours-per-week','native-country','salary']"
   ]
  },
  {
   "cell_type": "code",
   "execution_count": 80,
   "id": "71f657af",
   "metadata": {},
   "outputs": [
    {
     "data": {
      "text/plain": [
       "15"
      ]
     },
     "execution_count": 80,
     "metadata": {},
     "output_type": "execute_result"
    }
   ],
   "source": [
    "len(header)"
   ]
  },
  {
   "cell_type": "code",
   "execution_count": 81,
   "id": "c3d90f6d",
   "metadata": {},
   "outputs": [
    {
     "name": "stdout",
     "output_type": "stream",
     "text": [
      "<class 'pandas.core.frame.DataFrame'>\n",
      "RangeIndex: 32560 entries, 0 to 32559\n",
      "Data columns (total 15 columns):\n",
      " #   Column          Non-Null Count  Dtype \n",
      "---  ------          --------------  ----- \n",
      " 0   39              32560 non-null  int64 \n",
      " 1    State-gov      32560 non-null  object\n",
      " 2    77516          32560 non-null  int64 \n",
      " 3    Bachelors      32560 non-null  object\n",
      " 4    13             32560 non-null  int64 \n",
      " 5    Never-married  32560 non-null  object\n",
      " 6    Adm-clerical   32560 non-null  object\n",
      " 7    Not-in-family  32560 non-null  object\n",
      " 8    White          32560 non-null  object\n",
      " 9    Male           32560 non-null  object\n",
      " 10   2174           32560 non-null  int64 \n",
      " 11   0              32560 non-null  int64 \n",
      " 12   40             32560 non-null  int64 \n",
      " 13   United-States  32560 non-null  object\n",
      " 14   <=50K          32560 non-null  object\n",
      "dtypes: int64(6), object(9)\n",
      "memory usage: 3.7+ MB\n"
     ]
    }
   ],
   "source": [
    "df.info()"
   ]
  },
  {
   "cell_type": "code",
   "execution_count": 82,
   "id": "da720800",
   "metadata": {},
   "outputs": [],
   "source": [
    "df.columns = header"
   ]
  },
  {
   "cell_type": "code",
   "execution_count": 83,
   "id": "750655a1",
   "metadata": {},
   "outputs": [
    {
     "data": {
      "text/html": [
       "<div>\n",
       "<style scoped>\n",
       "    .dataframe tbody tr th:only-of-type {\n",
       "        vertical-align: middle;\n",
       "    }\n",
       "\n",
       "    .dataframe tbody tr th {\n",
       "        vertical-align: top;\n",
       "    }\n",
       "\n",
       "    .dataframe thead th {\n",
       "        text-align: right;\n",
       "    }\n",
       "</style>\n",
       "<table border=\"1\" class=\"dataframe\">\n",
       "  <thead>\n",
       "    <tr style=\"text-align: right;\">\n",
       "      <th></th>\n",
       "      <th>age</th>\n",
       "      <th>workclass</th>\n",
       "      <th>fnlwgt</th>\n",
       "      <th>education</th>\n",
       "      <th>education-num</th>\n",
       "      <th>marital-status</th>\n",
       "      <th>occupation</th>\n",
       "      <th>relationship</th>\n",
       "      <th>race</th>\n",
       "      <th>sex</th>\n",
       "      <th>capital-gain</th>\n",
       "      <th>capital-loss</th>\n",
       "      <th>hours-per-week</th>\n",
       "      <th>native-country</th>\n",
       "      <th>salary</th>\n",
       "    </tr>\n",
       "  </thead>\n",
       "  <tbody>\n",
       "    <tr>\n",
       "      <th>0</th>\n",
       "      <td>50</td>\n",
       "      <td>Self-emp-not-inc</td>\n",
       "      <td>83311</td>\n",
       "      <td>Bachelors</td>\n",
       "      <td>13</td>\n",
       "      <td>Married-civ-spouse</td>\n",
       "      <td>Exec-managerial</td>\n",
       "      <td>Husband</td>\n",
       "      <td>White</td>\n",
       "      <td>Male</td>\n",
       "      <td>0</td>\n",
       "      <td>0</td>\n",
       "      <td>13</td>\n",
       "      <td>United-States</td>\n",
       "      <td>&lt;=50K</td>\n",
       "    </tr>\n",
       "    <tr>\n",
       "      <th>1</th>\n",
       "      <td>38</td>\n",
       "      <td>Private</td>\n",
       "      <td>215646</td>\n",
       "      <td>HS-grad</td>\n",
       "      <td>9</td>\n",
       "      <td>Divorced</td>\n",
       "      <td>Handlers-cleaners</td>\n",
       "      <td>Not-in-family</td>\n",
       "      <td>White</td>\n",
       "      <td>Male</td>\n",
       "      <td>0</td>\n",
       "      <td>0</td>\n",
       "      <td>40</td>\n",
       "      <td>United-States</td>\n",
       "      <td>&lt;=50K</td>\n",
       "    </tr>\n",
       "    <tr>\n",
       "      <th>2</th>\n",
       "      <td>53</td>\n",
       "      <td>Private</td>\n",
       "      <td>234721</td>\n",
       "      <td>11th</td>\n",
       "      <td>7</td>\n",
       "      <td>Married-civ-spouse</td>\n",
       "      <td>Handlers-cleaners</td>\n",
       "      <td>Husband</td>\n",
       "      <td>Black</td>\n",
       "      <td>Male</td>\n",
       "      <td>0</td>\n",
       "      <td>0</td>\n",
       "      <td>40</td>\n",
       "      <td>United-States</td>\n",
       "      <td>&lt;=50K</td>\n",
       "    </tr>\n",
       "    <tr>\n",
       "      <th>3</th>\n",
       "      <td>28</td>\n",
       "      <td>Private</td>\n",
       "      <td>338409</td>\n",
       "      <td>Bachelors</td>\n",
       "      <td>13</td>\n",
       "      <td>Married-civ-spouse</td>\n",
       "      <td>Prof-specialty</td>\n",
       "      <td>Wife</td>\n",
       "      <td>Black</td>\n",
       "      <td>Female</td>\n",
       "      <td>0</td>\n",
       "      <td>0</td>\n",
       "      <td>40</td>\n",
       "      <td>Cuba</td>\n",
       "      <td>&lt;=50K</td>\n",
       "    </tr>\n",
       "    <tr>\n",
       "      <th>4</th>\n",
       "      <td>37</td>\n",
       "      <td>Private</td>\n",
       "      <td>284582</td>\n",
       "      <td>Masters</td>\n",
       "      <td>14</td>\n",
       "      <td>Married-civ-spouse</td>\n",
       "      <td>Exec-managerial</td>\n",
       "      <td>Wife</td>\n",
       "      <td>White</td>\n",
       "      <td>Female</td>\n",
       "      <td>0</td>\n",
       "      <td>0</td>\n",
       "      <td>40</td>\n",
       "      <td>United-States</td>\n",
       "      <td>&lt;=50K</td>\n",
       "    </tr>\n",
       "  </tbody>\n",
       "</table>\n",
       "</div>"
      ],
      "text/plain": [
       "   age          workclass  fnlwgt   education  education-num  \\\n",
       "0   50   Self-emp-not-inc   83311   Bachelors             13   \n",
       "1   38            Private  215646     HS-grad              9   \n",
       "2   53            Private  234721        11th              7   \n",
       "3   28            Private  338409   Bachelors             13   \n",
       "4   37            Private  284582     Masters             14   \n",
       "\n",
       "        marital-status          occupation    relationship    race      sex  \\\n",
       "0   Married-civ-spouse     Exec-managerial         Husband   White     Male   \n",
       "1             Divorced   Handlers-cleaners   Not-in-family   White     Male   \n",
       "2   Married-civ-spouse   Handlers-cleaners         Husband   Black     Male   \n",
       "3   Married-civ-spouse      Prof-specialty            Wife   Black   Female   \n",
       "4   Married-civ-spouse     Exec-managerial            Wife   White   Female   \n",
       "\n",
       "   capital-gain  capital-loss  hours-per-week  native-country  salary  \n",
       "0             0             0              13   United-States   <=50K  \n",
       "1             0             0              40   United-States   <=50K  \n",
       "2             0             0              40   United-States   <=50K  \n",
       "3             0             0              40            Cuba   <=50K  \n",
       "4             0             0              40   United-States   <=50K  "
      ]
     },
     "execution_count": 83,
     "metadata": {},
     "output_type": "execute_result"
    }
   ],
   "source": [
    "df.head()"
   ]
  },
  {
   "cell_type": "code",
   "execution_count": 84,
   "id": "8e210661",
   "metadata": {},
   "outputs": [
    {
     "name": "stdout",
     "output_type": "stream",
     "text": [
      "32560\n",
      "age               0\n",
      "workclass         0\n",
      "fnlwgt            0\n",
      "education         0\n",
      "education-num     0\n",
      "marital-status    0\n",
      "occupation        0\n",
      "relationship      0\n",
      "race              0\n",
      "sex               0\n",
      "capital-gain      0\n",
      "capital-loss      0\n",
      "hours-per-week    0\n",
      "native-country    0\n",
      "salary            0\n",
      "dtype: int64\n"
     ]
    }
   ],
   "source": [
    "print(len(df))\n",
    "print(df.isnull().sum())\n"
   ]
  },
  {
   "cell_type": "code",
   "execution_count": 85,
   "id": "c1931dcf",
   "metadata": {},
   "outputs": [
    {
     "name": "stdout",
     "output_type": "stream",
     "text": [
      "<class 'pandas.core.frame.DataFrame'>\n",
      "RangeIndex: 32560 entries, 0 to 32559\n",
      "Data columns (total 15 columns):\n",
      " #   Column          Non-Null Count  Dtype \n",
      "---  ------          --------------  ----- \n",
      " 0   age             32560 non-null  int64 \n",
      " 1   workclass       32560 non-null  object\n",
      " 2   fnlwgt          32560 non-null  int64 \n",
      " 3   education       32560 non-null  object\n",
      " 4   education-num   32560 non-null  int64 \n",
      " 5   marital-status  32560 non-null  object\n",
      " 6   occupation      32560 non-null  object\n",
      " 7   relationship    32560 non-null  object\n",
      " 8   race            32560 non-null  object\n",
      " 9   sex             32560 non-null  object\n",
      " 10  capital-gain    32560 non-null  int64 \n",
      " 11  capital-loss    32560 non-null  int64 \n",
      " 12  hours-per-week  32560 non-null  int64 \n",
      " 13  native-country  32560 non-null  object\n",
      " 14  salary          32560 non-null  object\n",
      "dtypes: int64(6), object(9)\n",
      "memory usage: 3.7+ MB\n"
     ]
    }
   ],
   "source": [
    "df.info()"
   ]
  },
  {
   "cell_type": "code",
   "execution_count": 86,
   "id": "ad495213",
   "metadata": {},
   "outputs": [
    {
     "data": {
      "text/plain": [
       " Private             22696\n",
       " Self-emp-not-inc     2541\n",
       " Local-gov            2093\n",
       " ?                    1836\n",
       " State-gov            1297\n",
       " Self-emp-inc         1116\n",
       " Federal-gov           960\n",
       " Without-pay            14\n",
       " Never-worked            7\n",
       "Name: workclass, dtype: int64"
      ]
     },
     "execution_count": 86,
     "metadata": {},
     "output_type": "execute_result"
    }
   ],
   "source": [
    "df['workclass'].value_counts()"
   ]
  },
  {
   "cell_type": "code",
   "execution_count": 87,
   "id": "93c296c1",
   "metadata": {},
   "outputs": [],
   "source": [
    "df['workclass'] = df['workclass'].astype('str')\n",
    "\n",
    "df['workclass'] = df.workclass.replace(' ?', ' Unknown')"
   ]
  },
  {
   "cell_type": "code",
   "execution_count": 88,
   "id": "f175cf3c",
   "metadata": {},
   "outputs": [
    {
     "data": {
      "text/plain": [
       " Private             22696\n",
       " Self-emp-not-inc     2541\n",
       " Local-gov            2093\n",
       " Unknown              1836\n",
       " State-gov            1297\n",
       " Self-emp-inc         1116\n",
       " Federal-gov           960\n",
       " Without-pay            14\n",
       " Never-worked            7\n",
       "Name: workclass, dtype: int64"
      ]
     },
     "execution_count": 88,
     "metadata": {},
     "output_type": "execute_result"
    }
   ],
   "source": [
    "df['workclass'].value_counts()"
   ]
  },
  {
   "cell_type": "code",
   "execution_count": 89,
   "id": "78d08044",
   "metadata": {},
   "outputs": [
    {
     "data": {
      "text/plain": [
       " HS-grad         10501\n",
       " Some-college     7291\n",
       " Bachelors        5354\n",
       " Masters          1723\n",
       " Assoc-voc        1382\n",
       " 11th             1175\n",
       " Assoc-acdm       1067\n",
       " 10th              933\n",
       " 7th-8th           646\n",
       " Prof-school       576\n",
       " 9th               514\n",
       " 12th              433\n",
       " Doctorate         413\n",
       " 5th-6th           333\n",
       " 1st-4th           168\n",
       " Preschool          51\n",
       "Name: education, dtype: int64"
      ]
     },
     "execution_count": 89,
     "metadata": {},
     "output_type": "execute_result"
    }
   ],
   "source": [
    "df['education'].value_counts()"
   ]
  },
  {
   "cell_type": "code",
   "execution_count": 90,
   "id": "2de5ac4d",
   "metadata": {},
   "outputs": [
    {
     "data": {
      "text/plain": [
       " Married-civ-spouse       14976\n",
       " Never-married            10682\n",
       " Divorced                  4443\n",
       " Separated                 1025\n",
       " Widowed                    993\n",
       " Married-spouse-absent      418\n",
       " Married-AF-spouse           23\n",
       "Name: marital-status, dtype: int64"
      ]
     },
     "execution_count": 90,
     "metadata": {},
     "output_type": "execute_result"
    }
   ],
   "source": [
    "df['marital-status'].value_counts()"
   ]
  },
  {
   "cell_type": "code",
   "execution_count": 91,
   "id": "7b48919a",
   "metadata": {},
   "outputs": [
    {
     "data": {
      "text/plain": [
       " Prof-specialty       4140\n",
       " Craft-repair         4099\n",
       " Exec-managerial      4066\n",
       " Adm-clerical         3769\n",
       " Sales                3650\n",
       " Other-service        3295\n",
       " Machine-op-inspct    2002\n",
       " ?                    1843\n",
       " Transport-moving     1597\n",
       " Handlers-cleaners    1370\n",
       " Farming-fishing       994\n",
       " Tech-support          928\n",
       " Protective-serv       649\n",
       " Priv-house-serv       149\n",
       " Armed-Forces            9\n",
       "Name: occupation, dtype: int64"
      ]
     },
     "execution_count": 91,
     "metadata": {},
     "output_type": "execute_result"
    }
   ],
   "source": [
    "df['occupation'].value_counts()"
   ]
  },
  {
   "cell_type": "code",
   "execution_count": 92,
   "id": "df0381b3",
   "metadata": {},
   "outputs": [],
   "source": [
    "df['occupation'] = df['occupation'].replace(' ?', ' Unknown')"
   ]
  },
  {
   "cell_type": "code",
   "execution_count": 93,
   "id": "4d27d946",
   "metadata": {},
   "outputs": [
    {
     "data": {
      "text/plain": [
       " Prof-specialty       4140\n",
       " Craft-repair         4099\n",
       " Exec-managerial      4066\n",
       " Adm-clerical         3769\n",
       " Sales                3650\n",
       " Other-service        3295\n",
       " Machine-op-inspct    2002\n",
       " Unknown              1843\n",
       " Transport-moving     1597\n",
       " Handlers-cleaners    1370\n",
       " Farming-fishing       994\n",
       " Tech-support          928\n",
       " Protective-serv       649\n",
       " Priv-house-serv       149\n",
       " Armed-Forces            9\n",
       "Name: occupation, dtype: int64"
      ]
     },
     "execution_count": 93,
     "metadata": {},
     "output_type": "execute_result"
    }
   ],
   "source": [
    "df['occupation'].value_counts()"
   ]
  },
  {
   "cell_type": "code",
   "execution_count": 94,
   "id": "354cd4d9",
   "metadata": {},
   "outputs": [
    {
     "data": {
      "text/plain": [
       " Husband           13193\n",
       " Not-in-family      8304\n",
       " Own-child          5068\n",
       " Unmarried          3446\n",
       " Wife               1568\n",
       " Other-relative      981\n",
       "Name: relationship, dtype: int64"
      ]
     },
     "execution_count": 94,
     "metadata": {},
     "output_type": "execute_result"
    }
   ],
   "source": [
    "df['relationship'].value_counts()"
   ]
  },
  {
   "cell_type": "code",
   "execution_count": 95,
   "id": "21383b0a",
   "metadata": {},
   "outputs": [
    {
     "data": {
      "text/plain": [
       " Male      21789\n",
       " Female    10771\n",
       "Name: sex, dtype: int64"
      ]
     },
     "execution_count": 95,
     "metadata": {},
     "output_type": "execute_result"
    }
   ],
   "source": [
    "df['sex'].value_counts()"
   ]
  },
  {
   "cell_type": "code",
   "execution_count": 96,
   "id": "39551d2f",
   "metadata": {},
   "outputs": [
    {
     "data": {
      "text/plain": [
       " United-States                 29169\n",
       " Mexico                          643\n",
       " ?                               583\n",
       " Philippines                     198\n",
       " Germany                         137\n",
       " Canada                          121\n",
       " Puerto-Rico                     114\n",
       " El-Salvador                     106\n",
       " India                           100\n",
       " Cuba                             95\n",
       " England                          90\n",
       " Jamaica                          81\n",
       " South                            80\n",
       " China                            75\n",
       " Italy                            73\n",
       " Dominican-Republic               70\n",
       " Vietnam                          67\n",
       " Guatemala                        64\n",
       " Japan                            62\n",
       " Poland                           60\n",
       " Columbia                         59\n",
       " Taiwan                           51\n",
       " Haiti                            44\n",
       " Iran                             43\n",
       " Portugal                         37\n",
       " Nicaragua                        34\n",
       " Peru                             31\n",
       " France                           29\n",
       " Greece                           29\n",
       " Ecuador                          28\n",
       " Ireland                          24\n",
       " Hong                             20\n",
       " Cambodia                         19\n",
       " Trinadad&Tobago                  19\n",
       " Laos                             18\n",
       " Thailand                         18\n",
       " Yugoslavia                       16\n",
       " Outlying-US(Guam-USVI-etc)       14\n",
       " Honduras                         13\n",
       " Hungary                          13\n",
       " Scotland                         12\n",
       " Holand-Netherlands                1\n",
       "Name: native-country, dtype: int64"
      ]
     },
     "execution_count": 96,
     "metadata": {},
     "output_type": "execute_result"
    }
   ],
   "source": [
    "df['native-country'].value_counts()"
   ]
  },
  {
   "cell_type": "code",
   "execution_count": 97,
   "id": "cab85c53",
   "metadata": {},
   "outputs": [],
   "source": [
    "# Replace all values in a column except for a single value\n",
    "df['native-country'] = df['native-country'].mask(df['native-country'] != ' United-States', ' Other')"
   ]
  },
  {
   "cell_type": "code",
   "execution_count": 98,
   "id": "18845d13",
   "metadata": {},
   "outputs": [
    {
     "data": {
      "text/plain": [
       " United-States    29169\n",
       " Other             3391\n",
       "Name: native-country, dtype: int64"
      ]
     },
     "execution_count": 98,
     "metadata": {},
     "output_type": "execute_result"
    }
   ],
   "source": [
    "df['native-country'].value_counts()"
   ]
  },
  {
   "cell_type": "code",
   "execution_count": 99,
   "id": "69c18ef5",
   "metadata": {},
   "outputs": [
    {
     "data": {
      "text/plain": [
       " <=50K    24719\n",
       " >50K      7841\n",
       "Name: salary, dtype: int64"
      ]
     },
     "execution_count": 99,
     "metadata": {},
     "output_type": "execute_result"
    }
   ],
   "source": [
    "df['salary'].value_counts()"
   ]
  },
  {
   "cell_type": "code",
   "execution_count": 100,
   "id": "938c8353",
   "metadata": {},
   "outputs": [],
   "source": [
    "df= df.drop(['education'],axis=1)"
   ]
  },
  {
   "cell_type": "markdown",
   "id": "74927a41",
   "metadata": {},
   "source": [
    "# Categorical encoding"
   ]
  },
  {
   "cell_type": "code",
   "execution_count": 101,
   "id": "effbd082",
   "metadata": {},
   "outputs": [
    {
     "name": "stdout",
     "output_type": "stream",
     "text": [
      "Categorical Features in Train Set: 7\n",
      "['workclass' 'marital-status' 'occupation' 'relationship' 'race' 'sex'\n",
      " 'native-country']\n",
      "\n",
      "Numerical Features in Train Set: 6\n",
      "['age' 'fnlwgt' 'education-num' 'capital-gain' 'capital-loss'\n",
      " 'hours-per-week']\n"
     ]
    },
    {
     "name": "stderr",
     "output_type": "stream",
     "text": [
      "C:\\Users\\v1\\AppData\\Local\\Temp/ipykernel_16520/3019844302.py:4: DeprecationWarning: `np.object` is a deprecated alias for the builtin `object`. To silence this warning, use `object` by itself. Doing this will not modify any behavior and is safe. \n",
      "Deprecated in NumPy 1.20; for more details and guidance: https://numpy.org/devdocs/release/1.20.0-notes.html#deprecations\n",
      "  categorical = df1.select_dtypes(include =[np.object])\n"
     ]
    }
   ],
   "source": [
    "df1 = df.drop(['salary'], axis=1)\n",
    "\n",
    "#categorical features\n",
    "categorical = df1.select_dtypes(include =[np.object])\n",
    "print(\"Categorical Features in Train Set:\",categorical.shape[1])\n",
    "print(categorical.columns.values)\n",
    "\n",
    "#numerical features\n",
    "numerical= df1.select_dtypes(include =[np.float64,np.int64])\n",
    "print(\"\\nNumerical Features in Train Set:\",numerical.shape[1])\n",
    "print(numerical.columns.values)"
   ]
  },
  {
   "cell_type": "code",
   "execution_count": 102,
   "id": "7f0820b0",
   "metadata": {},
   "outputs": [],
   "source": [
    "le = LabelEncoder()\n",
    "\n",
    "var_mod = ['sex','native-country']\n",
    "for i in var_mod:\n",
    "    df[i] = le.fit_transform(df[i])"
   ]
  },
  {
   "cell_type": "code",
   "execution_count": 103,
   "id": "da0a3f32",
   "metadata": {},
   "outputs": [
    {
     "data": {
      "text/html": [
       "<div>\n",
       "<style scoped>\n",
       "    .dataframe tbody tr th:only-of-type {\n",
       "        vertical-align: middle;\n",
       "    }\n",
       "\n",
       "    .dataframe tbody tr th {\n",
       "        vertical-align: top;\n",
       "    }\n",
       "\n",
       "    .dataframe thead th {\n",
       "        text-align: right;\n",
       "    }\n",
       "</style>\n",
       "<table border=\"1\" class=\"dataframe\">\n",
       "  <thead>\n",
       "    <tr style=\"text-align: right;\">\n",
       "      <th></th>\n",
       "      <th>age</th>\n",
       "      <th>fnlwgt</th>\n",
       "      <th>education-num</th>\n",
       "      <th>sex</th>\n",
       "      <th>capital-gain</th>\n",
       "      <th>capital-loss</th>\n",
       "      <th>hours-per-week</th>\n",
       "      <th>native-country</th>\n",
       "      <th>salary</th>\n",
       "      <th>workclass_ Local-gov</th>\n",
       "      <th>...</th>\n",
       "      <th>occupation_ Unknown</th>\n",
       "      <th>relationship_ Not-in-family</th>\n",
       "      <th>relationship_ Other-relative</th>\n",
       "      <th>relationship_ Own-child</th>\n",
       "      <th>relationship_ Unmarried</th>\n",
       "      <th>relationship_ Wife</th>\n",
       "      <th>race_ Asian-Pac-Islander</th>\n",
       "      <th>race_ Black</th>\n",
       "      <th>race_ Other</th>\n",
       "      <th>race_ White</th>\n",
       "    </tr>\n",
       "  </thead>\n",
       "  <tbody>\n",
       "    <tr>\n",
       "      <th>0</th>\n",
       "      <td>50</td>\n",
       "      <td>83311</td>\n",
       "      <td>13</td>\n",
       "      <td>1</td>\n",
       "      <td>0</td>\n",
       "      <td>0</td>\n",
       "      <td>13</td>\n",
       "      <td>1</td>\n",
       "      <td>&lt;=50K</td>\n",
       "      <td>0</td>\n",
       "      <td>...</td>\n",
       "      <td>0</td>\n",
       "      <td>0</td>\n",
       "      <td>0</td>\n",
       "      <td>0</td>\n",
       "      <td>0</td>\n",
       "      <td>0</td>\n",
       "      <td>0</td>\n",
       "      <td>0</td>\n",
       "      <td>0</td>\n",
       "      <td>1</td>\n",
       "    </tr>\n",
       "    <tr>\n",
       "      <th>1</th>\n",
       "      <td>38</td>\n",
       "      <td>215646</td>\n",
       "      <td>9</td>\n",
       "      <td>1</td>\n",
       "      <td>0</td>\n",
       "      <td>0</td>\n",
       "      <td>40</td>\n",
       "      <td>1</td>\n",
       "      <td>&lt;=50K</td>\n",
       "      <td>0</td>\n",
       "      <td>...</td>\n",
       "      <td>0</td>\n",
       "      <td>1</td>\n",
       "      <td>0</td>\n",
       "      <td>0</td>\n",
       "      <td>0</td>\n",
       "      <td>0</td>\n",
       "      <td>0</td>\n",
       "      <td>0</td>\n",
       "      <td>0</td>\n",
       "      <td>1</td>\n",
       "    </tr>\n",
       "  </tbody>\n",
       "</table>\n",
       "<p>2 rows × 46 columns</p>\n",
       "</div>"
      ],
      "text/plain": [
       "   age  fnlwgt  education-num  sex  capital-gain  capital-loss  \\\n",
       "0   50   83311             13    1             0             0   \n",
       "1   38  215646              9    1             0             0   \n",
       "\n",
       "   hours-per-week  native-country  salary  workclass_ Local-gov  ...  \\\n",
       "0              13               1   <=50K                     0  ...   \n",
       "1              40               1   <=50K                     0  ...   \n",
       "\n",
       "   occupation_ Unknown  relationship_ Not-in-family  \\\n",
       "0                    0                            0   \n",
       "1                    0                            1   \n",
       "\n",
       "   relationship_ Other-relative  relationship_ Own-child  \\\n",
       "0                             0                        0   \n",
       "1                             0                        0   \n",
       "\n",
       "   relationship_ Unmarried  relationship_ Wife  race_ Asian-Pac-Islander  \\\n",
       "0                        0                   0                         0   \n",
       "1                        0                   0                         0   \n",
       "\n",
       "   race_ Black  race_ Other  race_ White  \n",
       "0            0            0            1  \n",
       "1            0            0            1  \n",
       "\n",
       "[2 rows x 46 columns]"
      ]
     },
     "execution_count": 103,
     "metadata": {},
     "output_type": "execute_result"
    }
   ],
   "source": [
    "df = pd.get_dummies(df, columns=['workclass','marital-status','occupation','relationship','race' ],drop_first= True)\n",
    "\n",
    "df.head(2)"
   ]
  },
  {
   "cell_type": "code",
   "execution_count": 54,
   "id": "a3c5cda8",
   "metadata": {},
   "outputs": [],
   "source": [
    "df['salary'] = le.fit_transform(df['salary'])"
   ]
  },
  {
   "cell_type": "markdown",
   "id": "8dee2d5e",
   "metadata": {},
   "source": [
    "# Outliers"
   ]
  },
  {
   "cell_type": "code",
   "execution_count": 29,
   "id": "49483b93",
   "metadata": {},
   "outputs": [
    {
     "data": {
      "text/plain": [
       "{'whiskers': [<matplotlib.lines.Line2D at 0x26a38cecd90>,\n",
       "  <matplotlib.lines.Line2D at 0x26a38d090a0>],\n",
       " 'caps': [<matplotlib.lines.Line2D at 0x26a38d09430>,\n",
       "  <matplotlib.lines.Line2D at 0x26a38d09640>],\n",
       " 'boxes': [<matplotlib.lines.Line2D at 0x26a38cecbe0>],\n",
       " 'medians': [<matplotlib.lines.Line2D at 0x26a38d09910>],\n",
       " 'fliers': [<matplotlib.lines.Line2D at 0x26a38d09be0>],\n",
       " 'means': []}"
      ]
     },
     "execution_count": 29,
     "metadata": {},
     "output_type": "execute_result"
    },
    {
     "data": {
      "image/png": "[encoded data removed]",
      "text/plain": [
       "<Figure size 432x288 with 1 Axes>"
      ]
     },
     "metadata": {
      "needs_background": "light"
     },
     "output_type": "display_data"
    }
   ],
   "source": [
    "plt.boxplot(df['age'])"
   ]
  },
  {
   "cell_type": "code",
   "execution_count": 30,
   "id": "03d4784d",
   "metadata": {},
   "outputs": [
    {
     "data": {
      "text/plain": [
       "{'whiskers': [<matplotlib.lines.Line2D at 0x26a38fb0e80>,\n",
       "  <matplotlib.lines.Line2D at 0x26a38fc0190>],\n",
       " 'caps': [<matplotlib.lines.Line2D at 0x26a38fc0460>,\n",
       "  <matplotlib.lines.Line2D at 0x26a38fc0730>],\n",
       " 'boxes': [<matplotlib.lines.Line2D at 0x26a38fb0c10>],\n",
       " 'medians': [<matplotlib.lines.Line2D at 0x26a38fc0a00>],\n",
       " 'fliers': [<matplotlib.lines.Line2D at 0x26a38fc0cd0>],\n",
       " 'means': []}"
      ]
     },
     "execution_count": 30,
     "metadata": {},
     "output_type": "execute_result"
    },
    {
     "data": {
      "image/png": "[encoded data removed]",
      "text/plain": [
       "<Figure size 432x288 with 1 Axes>"
      ]
     },
     "metadata": {
      "needs_background": "light"
     },
     "output_type": "display_data"
    }
   ],
   "source": [
    "plt.boxplot(df['fnlwgt'])"
   ]
  },
  {
   "cell_type": "code",
   "execution_count": 31,
   "id": "620c8174",
   "metadata": {},
   "outputs": [
    {
     "data": {
      "text/plain": [
       "{'whiskers': [<matplotlib.lines.Line2D at 0x26a3b49f160>,\n",
       "  <matplotlib.lines.Line2D at 0x26a3b49f310>],\n",
       " 'caps': [<matplotlib.lines.Line2D at 0x26a3b49f5e0>,\n",
       "  <matplotlib.lines.Line2D at 0x26a3b49f8b0>],\n",
       " 'boxes': [<matplotlib.lines.Line2D at 0x26a3b48fe80>],\n",
       " 'medians': [<matplotlib.lines.Line2D at 0x26a3b49fb80>],\n",
       " 'fliers': [<matplotlib.lines.Line2D at 0x26a3b49fe80>],\n",
       " 'means': []}"
      ]
     },
     "execution_count": 31,
     "metadata": {},
     "output_type": "execute_result"
    },
    {
     "data": {
      "image/png": "[encoded data removed]",
      "text/plain": [
       "<Figure size 432x288 with 1 Axes>"
      ]
     },
     "metadata": {
      "needs_background": "light"
     },
     "output_type": "display_data"
    }
   ],
   "source": [
    "plt.boxplot(df['capital-gain'])"
   ]
  },
  {
   "cell_type": "code",
   "execution_count": 32,
   "id": "a538bf33",
   "metadata": {},
   "outputs": [
    {
     "data": {
      "text/plain": [
       "{'whiskers': [<matplotlib.lines.Line2D at 0x26a3b4eed60>,\n",
       "  <matplotlib.lines.Line2D at 0x26a3b500070>],\n",
       " 'caps': [<matplotlib.lines.Line2D at 0x26a3b500340>,\n",
       "  <matplotlib.lines.Line2D at 0x26a3b500610>],\n",
       " 'boxes': [<matplotlib.lines.Line2D at 0x26a3b4eea90>],\n",
       " 'medians': [<matplotlib.lines.Line2D at 0x26a3b5008e0>],\n",
       " 'fliers': [<matplotlib.lines.Line2D at 0x26a3b500bb0>],\n",
       " 'means': []}"
      ]
     },
     "execution_count": 32,
     "metadata": {},
     "output_type": "execute_result"
    },
    {
     "data": {
      "image/png": "[encoded data removed]",
      "text/plain": [
       "<Figure size 432x288 with 1 Axes>"
      ]
     },
     "metadata": {
      "needs_background": "light"
     },
     "output_type": "display_data"
    }
   ],
   "source": [
    "plt.boxplot(df['capital-loss'])"
   ]
  },
  {
   "cell_type": "code",
   "execution_count": 104,
   "id": "304edf4c",
   "metadata": {},
   "outputs": [
    {
     "name": "stdout",
     "output_type": "stream",
     "text": [
      "(32560, 45)\n",
      "(32560,)\n"
     ]
    }
   ],
   "source": [
    "X= df.drop(columns = ['salary'], axis=1)\n",
    "y= df['salary']\n",
    "print(X.shape)\n",
    "print(y.shape)"
   ]
  },
  {
   "cell_type": "markdown",
   "id": "e1b9151e",
   "metadata": {},
   "source": [
    "# Standarisation"
   ]
  },
  {
   "cell_type": "code",
   "execution_count": 105,
   "id": "271d0965",
   "metadata": {},
   "outputs": [],
   "source": [
    "from sklearn.preprocessing import StandardScaler\n",
    "sc = StandardScaler()\n",
    "X = sc.fit_transform(X)"
   ]
  },
  {
   "cell_type": "markdown",
   "id": "0590a807",
   "metadata": {},
   "source": [
    "# LDA"
   ]
  },
  {
   "cell_type": "code",
   "execution_count": 35,
   "id": "8964ba38",
   "metadata": {},
   "outputs": [
    {
     "data": {
      "text/plain": [
       "1"
      ]
     },
     "execution_count": 35,
     "metadata": {},
     "output_type": "execute_result"
    }
   ],
   "source": [
    "from sklearn.discriminant_analysis import LinearDiscriminantAnalysis as LDA\n",
    "\n",
    "# Create and run an LDA\n",
    "lda = LDA(n_components=None)\n",
    "X_lda = lda.fit(X, y)\n",
    "\n",
    "# Create array of explained variance ratios\n",
    "lda_var_ratios = lda.explained_variance_ratio_\n",
    "\n",
    "# Create a function\n",
    "def select_n_components(var_ratio, goal_var: float) -> int:\n",
    "    # Set initial variance explained so far\n",
    "    total_variance = 0.0\n",
    "    \n",
    "    # Set initial number of features\n",
    "    n_components = 0\n",
    "    \n",
    "    # For the explained variance of each feature:\n",
    "    for explained_variance in var_ratio:\n",
    "        \n",
    "        # Add the explained variance to the total\n",
    "        total_variance += explained_variance\n",
    "        \n",
    "        # Add one to the number of components\n",
    "        n_components += 1\n",
    "        \n",
    "        # If we reach our goal level of explained variance\n",
    "        if total_variance >= goal_var:\n",
    "            # End the loop\n",
    "            break\n",
    "            \n",
    "    # Return the number of components\n",
    "    return n_components\n",
    "\n",
    "select_n_components(lda_var_ratios, 0.90)"
   ]
  },
  {
   "cell_type": "markdown",
   "id": "503ce539",
   "metadata": {},
   "source": [
    "# PCA"
   ]
  },
  {
   "cell_type": "code",
   "execution_count": 106,
   "id": "a51605fe",
   "metadata": {},
   "outputs": [
    {
     "data": {
      "image/png": "[encoded data removed]",
      "text/plain": [
       "<Figure size 1440x720 with 1 Axes>"
      ]
     },
     "metadata": {
      "needs_background": "light"
     },
     "output_type": "display_data"
    }
   ],
   "source": [
    "from sklearn.decomposition import PCA\n",
    "\n",
    "pca = PCA().fit(X)\n",
    "plt.plot(np.cumsum(pca.explained_variance_ratio_))\n",
    "plt.xlabel('number of components')\n",
    "plt.ylabel('cumulative explained variance');"
   ]
  },
  {
   "cell_type": "code",
   "execution_count": 107,
   "id": "42f74936",
   "metadata": {},
   "outputs": [
    {
     "data": {
      "image/png": "[encoded data removed]",
      "text/plain": [
       "<Figure size 1440x720 with 1 Axes>"
      ]
     },
     "metadata": {
      "needs_background": "light"
     },
     "output_type": "display_data"
    }
   ],
   "source": [
    "plt.rcParams[\"figure.figsize\"] = (20,10)\n",
    "\n",
    "fig, ax = plt.subplots()\n",
    "xi = np.arange(1, 46, step=1)\n",
    "yi = np.cumsum(pca.explained_variance_ratio_)\n",
    "\n",
    "plt.ylim(0.0,1.1)\n",
    "plt.plot(xi, yi, marker='o', linestyle='--', color='b')\n",
    "\n",
    "plt.xlabel('Number of Components')\n",
    "plt.xticks(np.arange(0, 50, step=1)) #change from 0-based array index to 1-based human-readable label\n",
    "plt.ylabel('Cumulative variance (%)')\n",
    "plt.title('The number of components needed to explain variance')\n",
    "\n",
    "plt.axhline(y=0.95, color='r', linestyle='-')\n",
    "plt.text(0.5, 0.99, '95% cut-off threshold', color = 'red', fontsize=16)\n",
    "\n",
    "plt.axhline(y=0.90, color='r', linestyle='-')\n",
    "plt.text(0.5, 0.85, '90% cut-off threshold', color = 'red', fontsize=16)\n",
    "\n",
    "ax.grid(axis='x')\n",
    "plt.show()\n",
    "\n",
    "\n",
    "#60 - 90%\n",
    "#65 - 95%"
   ]
  },
  {
   "cell_type": "code",
   "execution_count": 39,
   "id": "60e07c37",
   "metadata": {},
   "outputs": [],
   "source": [
    "#90%\n",
    "\n",
    "pca = PCA(n_components=32)\n",
    "X = pca.fit_transform(X)"
   ]
  },
  {
   "cell_type": "markdown",
   "id": "7858f553",
   "metadata": {},
   "source": [
    "# CLASS IMBALANCE "
   ]
  },
  {
   "cell_type": "code",
   "execution_count": 40,
   "id": "5d789dcd",
   "metadata": {},
   "outputs": [
    {
     "data": {
      "text/plain": [
       "<seaborn.axisgrid.FacetGrid at 0x26a3b45d790>"
      ]
     },
     "execution_count": 40,
     "metadata": {},
     "output_type": "execute_result"
    },
    {
     "data": {
      "image/png": "[encoded data removed]",
      "text/plain": [
       "<Figure size 360x360 with 1 Axes>"
      ]
     },
     "metadata": {
      "needs_background": "light"
     },
     "output_type": "display_data"
    }
   ],
   "source": [
    "sns.catplot(x='salary',kind = 'count',data= df)"
   ]
  },
  {
   "cell_type": "code",
   "execution_count": 46,
   "id": "4f97a066",
   "metadata": {},
   "outputs": [
    {
     "name": "stdout",
     "output_type": "stream",
     "text": [
      "(24719, 46) (7841, 46)\n"
     ]
    }
   ],
   "source": [
    "lessthan50 = df[df['salary']==\" <=50K\"]\n",
    "greaterthan50 = df[df['salary']==\" >50K\"]\n",
    "\n",
    "print(lessthan50.shape,greaterthan50.shape)"
   ]
  },
  {
   "cell_type": "code",
   "execution_count": 55,
   "id": "61276508",
   "metadata": {},
   "outputs": [],
   "source": [
    "X= df.drop(columns = ['salary'], axis=1)\n",
    "y= df['salary']\n",
    "X = sc.fit_transform(X)"
   ]
  },
  {
   "cell_type": "code",
   "execution_count": 56,
   "id": "afd5102e",
   "metadata": {},
   "outputs": [
    {
     "name": "stdout",
     "output_type": "stream",
     "text": [
      "Counter({0: 24719, 1: 24719})\n"
     ]
    }
   ],
   "source": [
    "### OVERSAMPLING\n",
    "\n",
    "# instantiating the random over sampler \n",
    "ros = RandomOverSampler()\n",
    "# resampling X, y\n",
    "X_ros, y_ros = ros.fit_resample(X, y)\n",
    "# new class distribution \n",
    "print(Counter(y_ros))"
   ]
  },
  {
   "cell_type": "code",
   "execution_count": 57,
   "id": "ac485bce",
   "metadata": {},
   "outputs": [
    {
     "name": "stdout",
     "output_type": "stream",
     "text": [
      "Counter({0: 7841, 1: 7841})\n"
     ]
    }
   ],
   "source": [
    "## UNDERSAMPLING\n",
    "\n",
    "# instantiating the random undersampler\n",
    "rus = RandomUnderSampler() \n",
    "# resampling X, y\n",
    "X_rus, y_rus = rus.fit_resample(X, y)\n",
    "# new class distribution\n",
    "print(Counter(y_rus))"
   ]
  },
  {
   "cell_type": "code",
   "execution_count": 58,
   "id": "1ef466c7",
   "metadata": {},
   "outputs": [
    {
     "name": "stdout",
     "output_type": "stream",
     "text": [
      "Oversampled: Counter({0: 24719, 1: 19775})\n",
      "Combined Random Sampling: Counter({0: 21972, 1: 19775})\n"
     ]
    }
   ],
   "source": [
    "### Combined OVER AND UNDERSAMPLING\n",
    "\n",
    "# instantiating over and under sampler\n",
    "over = RandomOverSampler(sampling_strategy=0.8)\n",
    "under = RandomUnderSampler(sampling_strategy=0.9)\n",
    "\n",
    "\n",
    "# first performing oversampling to minority class\n",
    "X_over, y_over = over.fit_resample(X, y)\n",
    "print(f\"Oversampled: {Counter(y_over)}\")\n",
    "\n",
    "\n",
    "# now to comine under sampling \n",
    "X_combined_sampling, y_combined_sampling = under.fit_resample(X_over, y_over)\n",
    "print(f\"Combined Random Sampling: {Counter(y_combined_sampling)}\")"
   ]
  },
  {
   "cell_type": "code",
   "execution_count": 59,
   "id": "88a28004",
   "metadata": {},
   "outputs": [
    {
     "name": "stdout",
     "output_type": "stream",
     "text": [
      "SMOTE Sampling: Counter({0: 24719, 1: 24719})\n"
     ]
    }
   ],
   "source": [
    "## SMOTE\n",
    "\n",
    "from imblearn.over_sampling import SMOTE\n",
    "\n",
    "sm = SMOTE(random_state = 42)\n",
    "\n",
    "X_sm, y_sm = sm.fit_resample(X,y)\n",
    "print(f\"SMOTE Sampling: {Counter(y_sm)}\")"
   ]
  },
  {
   "cell_type": "code",
   "execution_count": 60,
   "id": "3353b976",
   "metadata": {},
   "outputs": [
    {
     "name": "stdout",
     "output_type": "stream",
     "text": [
      "SMOTETomek Sampling: Counter({0: 24002, 1: 24002})\n"
     ]
    }
   ],
   "source": [
    "## SMOTETomelek\n",
    "\n",
    "from imblearn.combine import SMOTETomek\n",
    "from imblearn.under_sampling import NearMiss\n",
    "# pip install scikit-learn==0.23.1\n",
    "# Implementing Oversampling for Handling Imbalanced \n",
    "smk = SMOTETomek(random_state=42)\n",
    "X_smk,y_smk=smk.fit_resample(X,y)\n",
    "print(f\"SMOTETomek Sampling: {Counter(y_smk)}\")"
   ]
  },
  {
   "cell_type": "markdown",
   "id": "3e889c81",
   "metadata": {},
   "source": [
    "# ML MODELLING"
   ]
  },
  {
   "cell_type": "code",
   "execution_count": 61,
   "id": "b2dce53b",
   "metadata": {},
   "outputs": [],
   "source": [
    "from sklearn.metrics import accuracy_score,classification_report,confusion_matrix,ConfusionMatrixDisplay\n",
    "from sklearn.metrics import plot_confusion_matrix\n",
    "from sklearn.metrics import auc,roc_auc_score,roc_curve\n",
    "import time\n",
    "\n",
    "\n",
    "plt.rcParams[\"figure.figsize\"] = (5,5)\n",
    "def result(model):\n",
    "\n",
    "    X_train, X_test, y_train, y_test = train_test_split(X_ros, y_ros, test_size=0.33, random_state=42)\n",
    "    start = time.time()\n",
    "    model.fit(X_train, y_train)\n",
    "    pred = model.predict(X_test)\n",
    "    end = time.time()\n",
    "    print(\"\\n Oversampled Data\\n\",accuracy_score(y_test,pred))\n",
    "    print(classification_report(y_test,pred))\n",
    "    print(confusion_matrix(y_test,pred))\n",
    "    cm = confusion_matrix(y_test, pred, labels=model.classes_)\n",
    "    disp = ConfusionMatrixDisplay(confusion_matrix=cm,display_labels=model.classes_)\n",
    "    disp.plot()\n",
    "    plt.show()\n",
    "    probs = model.predict_proba(X_test)\n",
    "    preds = probs[:,1]\n",
    "    fpr,tpr,threshold = metrics.roc_curve(y_test,preds)\n",
    "    roc_auc = metrics.auc(fpr,tpr)\n",
    "    print('ROC AUC=%.3f' % (roc_auc))\n",
    "    print(\"\\nTime Taken :\"+ str(end - start) +\" seconds\")\n",
    "    \n",
    "    X_train, X_test, y_train, y_test = train_test_split(X_rus, y_rus, test_size=0.33, random_state=42)\n",
    "    start = time.time()\n",
    "    model.fit(X_train, y_train)\n",
    "    pred = model.predict(X_test)\n",
    "    end = time.time()\n",
    "    print(\"\\n Undersampled Data\\n\",accuracy_score(y_test,pred))\n",
    "    print(classification_report(y_test,pred))\n",
    "    print(confusion_matrix(y_test,pred))\n",
    "    cm = confusion_matrix(y_test, pred, labels=model.classes_)\n",
    "    disp = ConfusionMatrixDisplay(confusion_matrix=cm,display_labels=model.classes_)\n",
    "    disp.plot()\n",
    "    plt.show()\n",
    "    probs = model.predict_proba(X_test)\n",
    "    preds = probs[:,1]\n",
    "    fpr,tpr,threshold = metrics.roc_curve(y_test,preds)\n",
    "    roc_auc = metrics.auc(fpr,tpr)\n",
    "    print('ROC AUC=%.3f' % (roc_auc))\n",
    "    print(\"\\nTime Taken :\"+ str(end - start) +\" seconds\")\n",
    "    \n",
    "    X_train, X_test, y_train, y_test = train_test_split(X_combined_sampling, y_combined_sampling, test_size=0.33, random_state=42)\n",
    "    start = time.time()\n",
    "    model.fit(X_train, y_train)\n",
    "    pred = model.predict(X_test)\n",
    "    end = time.time()\n",
    "    print(\"\\n Combined Sampling Data\\n\",accuracy_score(y_test,pred))\n",
    "    print(classification_report(y_test,pred))\n",
    "    print(confusion_matrix(y_test,pred))\n",
    "    cm = confusion_matrix(y_test, pred, labels=model.classes_)\n",
    "    disp = ConfusionMatrixDisplay(confusion_matrix=cm,display_labels=model.classes_)\n",
    "    disp.plot()\n",
    "    plt.show()\n",
    "    probs = model.predict_proba(X_test)\n",
    "    preds = probs[:,1]\n",
    "    fpr,tpr,threshold = metrics.roc_curve(y_test,preds)\n",
    "    roc_auc = metrics.auc(fpr,tpr)\n",
    "    print('ROC AUC=%.3f' % (roc_auc))\n",
    "    print(\"\\nTime Taken :\"+ str(end - start) +\" seconds\")\n",
    "    \n",
    "    X_train, X_test, y_train, y_test = train_test_split(X_sm, y_sm, test_size=0.33, random_state=42)\n",
    "    start = time.time()\n",
    "    model.fit(X_train, y_train)\n",
    "    pred = model.predict(X_test)\n",
    "    end = time.time()\n",
    "    print(\"\\n SMOTE Data\\n\",accuracy_score(y_test,pred))\n",
    "    print(classification_report(y_test,pred))\n",
    "    print(confusion_matrix(y_test,pred))\n",
    "    cm = confusion_matrix(y_test, pred, labels=model.classes_)\n",
    "    disp = ConfusionMatrixDisplay(confusion_matrix=cm,display_labels=model.classes_)\n",
    "    disp.plot()\n",
    "    plt.show()\n",
    "    probs = model.predict_proba(X_test)\n",
    "    preds = probs[:,1]\n",
    "    fpr,tpr,threshold = metrics.roc_curve(y_test,preds)\n",
    "    roc_auc = metrics.auc(fpr,tpr)\n",
    "    print('ROC AUC=%.3f' % (roc_auc))\n",
    "    print(\"\\nTime Taken :\"+ str(end - start) +\" seconds\")\n",
    "    \n",
    "    X_train, X_test, y_train, y_test = train_test_split(X_smk, y_smk, test_size=0.33, random_state=42)\n",
    "    start = time.time()\n",
    "    model.fit(X_train, y_train)\n",
    "    pred = model.predict(X_test)\n",
    "    end = time.time()\n",
    "    print(\"\\n SMOTETomek Data\\n\",accuracy_score(y_test,pred))\n",
    "    print(classification_report(y_test,pred))\n",
    "    print(confusion_matrix(y_test,pred))\n",
    "    cm = confusion_matrix(y_test, pred, labels=model.classes_)\n",
    "    disp = ConfusionMatrixDisplay(confusion_matrix=cm,display_labels=model.classes_)\n",
    "    disp.plot()\n",
    "    plt.show()\n",
    "    probs = model.predict_proba(X_test)\n",
    "    preds = probs[:,1]\n",
    "    fpr,tpr,threshold = metrics.roc_curve(y_test,preds)\n",
    "    roc_auc = metrics.auc(fpr,tpr)\n",
    "    print('ROC AUC=%.3f' % (roc_auc))\n",
    "    print(\"\\nTime Taken :\"+ str(end - start) +\" seconds\")"
   ]
  },
  {
   "cell_type": "code",
   "execution_count": 62,
   "id": "9c970020",
   "metadata": {},
   "outputs": [
    {
     "name": "stdout",
     "output_type": "stream",
     "text": [
      "\n",
      " Oversampled Data\n",
      " 0.8170395341710083\n",
      "              precision    recall  f1-score   support\n",
      "\n",
      "           0       0.82      0.82      0.82      8164\n",
      "           1       0.82      0.82      0.82      8151\n",
      "\n",
      "    accuracy                           0.82     16315\n",
      "   macro avg       0.82      0.82      0.82     16315\n",
      "weighted avg       0.82      0.82      0.82     16315\n",
      "\n",
      "[[6657 1507]\n",
      " [1478 6673]]\n"
     ]
    },
    {
     "data": {
      "image/png": "[encoded data removed]",
      "text/plain": [
       "<Figure size 360x360 with 2 Axes>"
      ]
     },
     "metadata": {
      "needs_background": "light"
     },
     "output_type": "display_data"
    },
    {
     "name": "stdout",
     "output_type": "stream",
     "text": [
      "ROC AUC=0.896\n",
      "\n",
      "Time Taken :11.420840978622437 seconds\n",
      "\n",
      " Undersampled Data\n",
      " 0.7826506955177743\n",
      "              precision    recall  f1-score   support\n",
      "\n",
      "           0       0.76      0.83      0.79      2597\n",
      "           1       0.81      0.74      0.77      2579\n",
      "\n",
      "    accuracy                           0.78      5176\n",
      "   macro avg       0.78      0.78      0.78      5176\n",
      "weighted avg       0.78      0.78      0.78      5176\n",
      "\n",
      "[[2147  450]\n",
      " [ 675 1904]]\n"
     ]
    },
    {
     "data": {
      "image/png": "[encoded data removed]",
      "text/plain": [
       "<Figure size 360x360 with 2 Axes>"
      ]
     },
     "metadata": {
      "needs_background": "light"
     },
     "output_type": "display_data"
    },
    {
     "name": "stdout",
     "output_type": "stream",
     "text": [
      "ROC AUC=0.864\n",
      "\n",
      "Time Taken :1.4481422901153564 seconds\n",
      "\n",
      " Combined Sampling Data\n",
      " 0.8121506859258184\n",
      "              precision    recall  f1-score   support\n",
      "\n",
      "           0       0.82      0.83      0.82      7300\n",
      "           1       0.80      0.79      0.80      6477\n",
      "\n",
      "    accuracy                           0.81     13777\n",
      "   macro avg       0.81      0.81      0.81     13777\n",
      "weighted avg       0.81      0.81      0.81     13777\n",
      "\n",
      "[[6055 1245]\n",
      " [1343 5134]]\n"
     ]
    },
    {
     "data": {
      "image/png": "[encoded data removed]",
      "text/plain": [
       "<Figure size 360x360 with 2 Axes>"
      ]
     },
     "metadata": {
      "needs_background": "light"
     },
     "output_type": "display_data"
    },
    {
     "name": "stdout",
     "output_type": "stream",
     "text": [
      "ROC AUC=0.892\n",
      "\n",
      "Time Taken :8.688448190689087 seconds\n",
      "\n",
      " SMOTE Data\n",
      " 0.8451118602513025\n",
      "              precision    recall  f1-score   support\n",
      "\n",
      "           0       0.86      0.82      0.84      8164\n",
      "           1       0.83      0.87      0.85      8151\n",
      "\n",
      "    accuracy                           0.85     16315\n",
      "   macro avg       0.85      0.85      0.85     16315\n",
      "weighted avg       0.85      0.85      0.85     16315\n",
      "\n",
      "[[6685 1479]\n",
      " [1048 7103]]\n"
     ]
    },
    {
     "data": {
      "image/png": "[encoded data removed]",
      "text/plain": [
       "<Figure size 360x360 with 2 Axes>"
      ]
     },
     "metadata": {
      "needs_background": "light"
     },
     "output_type": "display_data"
    },
    {
     "name": "stdout",
     "output_type": "stream",
     "text": [
      "ROC AUC=0.914\n",
      "\n",
      "Time Taken :11.592242240905762 seconds\n",
      "\n",
      " SMOTETomek Data\n",
      " 0.8598030551698018\n",
      "              precision    recall  f1-score   support\n",
      "\n",
      "           0       0.89      0.83      0.86      7931\n",
      "           1       0.84      0.89      0.86      7911\n",
      "\n",
      "    accuracy                           0.86     15842\n",
      "   macro avg       0.86      0.86      0.86     15842\n",
      "weighted avg       0.86      0.86      0.86     15842\n",
      "\n",
      "[[6558 1373]\n",
      " [ 848 7063]]\n"
     ]
    },
    {
     "data": {
      "image/png": "[encoded data removed]",
      "text/plain": [
       "<Figure size 360x360 with 2 Axes>"
      ]
     },
     "metadata": {
      "needs_background": "light"
     },
     "output_type": "display_data"
    },
    {
     "name": "stdout",
     "output_type": "stream",
     "text": [
      "ROC AUC=0.924\n",
      "\n",
      "Time Taken :11.868927240371704 seconds\n"
     ]
    }
   ],
   "source": [
    "from sklearn.neighbors import KNeighborsClassifier\n",
    "\n",
    "#Create KNN Classifier\n",
    "knn = KNeighborsClassifier(n_neighbors = 6, metric = 'minkowski', p = 2)\n",
    "\n",
    "result(knn)"
   ]
  },
  {
   "cell_type": "code",
   "execution_count": 64,
   "id": "508a459c",
   "metadata": {},
   "outputs": [
    {
     "name": "stdout",
     "output_type": "stream",
     "text": [
      "\n",
      " Oversampled Data\n",
      " 0.8194912657064052\n",
      "              precision    recall  f1-score   support\n",
      "\n",
      "           0       0.84      0.80      0.82      8164\n",
      "           1       0.80      0.84      0.82      8151\n",
      "\n",
      "    accuracy                           0.82     16315\n",
      "   macro avg       0.82      0.82      0.82     16315\n",
      "weighted avg       0.82      0.82      0.82     16315\n",
      "\n",
      "[[6495 1669]\n",
      " [1276 6875]]\n"
     ]
    },
    {
     "data": {
      "image/png": "[encoded data removed]",
      "text/plain": [
       "<Figure size 360x360 with 2 Axes>"
      ]
     },
     "metadata": {
      "needs_background": "light"
     },
     "output_type": "display_data"
    },
    {
     "name": "stdout",
     "output_type": "stream",
     "text": [
      "ROC AUC=0.907\n",
      "\n",
      "Time Taken :0.30023956298828125 seconds\n",
      "\n",
      " Undersampled Data\n",
      " 0.8245749613601236\n",
      "              precision    recall  f1-score   support\n",
      "\n",
      "           0       0.84      0.81      0.82      2597\n",
      "           1       0.81      0.84      0.83      2579\n",
      "\n",
      "    accuracy                           0.82      5176\n",
      "   macro avg       0.82      0.82      0.82      5176\n",
      "weighted avg       0.82      0.82      0.82      5176\n",
      "\n",
      "[[2098  499]\n",
      " [ 409 2170]]\n"
     ]
    },
    {
     "data": {
      "image/png": "[encoded data removed]",
      "text/plain": [
       "<Figure size 360x360 with 2 Axes>"
      ]
     },
     "metadata": {
      "needs_background": "light"
     },
     "output_type": "display_data"
    },
    {
     "name": "stdout",
     "output_type": "stream",
     "text": [
      "ROC AUC=0.905\n",
      "\n",
      "Time Taken :0.08404541015625 seconds\n",
      "\n",
      " Combined Sampling Data\n",
      " 0.8195543296799013\n",
      "              precision    recall  f1-score   support\n",
      "\n",
      "           0       0.84      0.82      0.83      7300\n",
      "           1       0.80      0.82      0.81      6477\n",
      "\n",
      "    accuracy                           0.82     13777\n",
      "   macro avg       0.82      0.82      0.82     13777\n",
      "weighted avg       0.82      0.82      0.82     13777\n",
      "\n",
      "[[5951 1349]\n",
      " [1137 5340]]\n"
     ]
    },
    {
     "data": {
      "image/png": "[encoded data removed]",
      "text/plain": [
       "<Figure size 360x360 with 2 Axes>"
      ]
     },
     "metadata": {
      "needs_background": "light"
     },
     "output_type": "display_data"
    },
    {
     "name": "stdout",
     "output_type": "stream",
     "text": [
      "ROC AUC=0.907\n",
      "\n",
      "Time Taken :0.23708057403564453 seconds\n",
      "\n",
      " SMOTE Data\n",
      " 0.8257431811216672\n",
      "              precision    recall  f1-score   support\n",
      "\n",
      "           0       0.84      0.80      0.82      8164\n",
      "           1       0.81      0.85      0.83      8151\n",
      "\n",
      "    accuracy                           0.83     16315\n",
      "   macro avg       0.83      0.83      0.83     16315\n",
      "weighted avg       0.83      0.83      0.83     16315\n",
      "\n",
      "[[6539 1625]\n",
      " [1218 6933]]\n"
     ]
    },
    {
     "data": {
      "image/png": "[encoded data removed]",
      "text/plain": [
       "<Figure size 360x360 with 2 Axes>"
      ]
     },
     "metadata": {
      "needs_background": "light"
     },
     "output_type": "display_data"
    },
    {
     "name": "stdout",
     "output_type": "stream",
     "text": [
      "ROC AUC=0.911\n",
      "\n",
      "Time Taken :0.3970911502838135 seconds\n",
      "\n",
      " SMOTETomek Data\n",
      " 0.8337962378487564\n",
      "              precision    recall  f1-score   support\n",
      "\n",
      "           0       0.85      0.81      0.83      7931\n",
      "           1       0.82      0.86      0.84      7911\n",
      "\n",
      "    accuracy                           0.83     15842\n",
      "   macro avg       0.83      0.83      0.83     15842\n",
      "weighted avg       0.83      0.83      0.83     15842\n",
      "\n",
      "[[6390 1541]\n",
      " [1092 6819]]\n"
     ]
    },
    {
     "data": {
      "image/png": "[encoded data removed]",
      "text/plain": [
       "<Figure size 360x360 with 2 Axes>"
      ]
     },
     "metadata": {
      "needs_background": "light"
     },
     "output_type": "display_data"
    },
    {
     "name": "stdout",
     "output_type": "stream",
     "text": [
      "ROC AUC=0.914\n",
      "\n",
      "Time Taken :0.27105212211608887 seconds\n"
     ]
    }
   ],
   "source": [
    "from sklearn.linear_model import LogisticRegression\n",
    "log = LogisticRegression(random_state = 0)\n",
    "result(log)"
   ]
  },
  {
   "cell_type": "code",
   "execution_count": 65,
   "id": "316ca4a3",
   "metadata": {},
   "outputs": [
    {
     "name": "stdout",
     "output_type": "stream",
     "text": [
      "\n",
      " Oversampled Data\n",
      " 0.6992951271835735\n",
      "              precision    recall  f1-score   support\n",
      "\n",
      "           0       0.92      0.44      0.59      8164\n",
      "           1       0.63      0.96      0.76      8151\n",
      "\n",
      "    accuracy                           0.70     16315\n",
      "   macro avg       0.77      0.70      0.68     16315\n",
      "weighted avg       0.77      0.70      0.68     16315\n",
      "\n",
      "[[3576 4588]\n",
      " [ 318 7833]]\n"
     ]
    },
    {
     "data": {
      "image/png": "[encoded data removed]",
      "text/plain": [
       "<Figure size 360x360 with 2 Axes>"
      ]
     },
     "metadata": {
      "needs_background": "light"
     },
     "output_type": "display_data"
    },
    {
     "name": "stdout",
     "output_type": "stream",
     "text": [
      "ROC AUC=0.863\n",
      "\n",
      "Time Taken :0.04299449920654297 seconds\n",
      "\n",
      " Undersampled Data\n",
      " 0.6814142194744977\n",
      "              precision    recall  f1-score   support\n",
      "\n",
      "           0       0.91      0.40      0.56      2597\n",
      "           1       0.62      0.96      0.75      2579\n",
      "\n",
      "    accuracy                           0.68      5176\n",
      "   macro avg       0.76      0.68      0.65      5176\n",
      "weighted avg       0.77      0.68      0.65      5176\n",
      "\n",
      "[[1046 1551]\n",
      " [  98 2481]]\n"
     ]
    },
    {
     "data": {
      "image/png": "[encoded data removed]",
      "text/plain": [
       "<Figure size 360x360 with 2 Axes>"
      ]
     },
     "metadata": {
      "needs_background": "light"
     },
     "output_type": "display_data"
    },
    {
     "name": "stdout",
     "output_type": "stream",
     "text": [
      "ROC AUC=0.815\n",
      "\n",
      "Time Taken :0.01502680778503418 seconds\n",
      "\n",
      " Combined Sampling Data\n",
      " 0.6842563693111708\n",
      "              precision    recall  f1-score   support\n",
      "\n",
      "           0       0.92      0.44      0.60      7300\n",
      "           1       0.60      0.95      0.74      6477\n",
      "\n",
      "    accuracy                           0.68     13777\n",
      "   macro avg       0.76      0.70      0.67     13777\n",
      "weighted avg       0.77      0.68      0.67     13777\n",
      "\n",
      "[[3247 4053]\n",
      " [ 297 6180]]\n"
     ]
    },
    {
     "data": {
      "image/png": "[encoded data removed]",
      "text/plain": [
       "<Figure size 360x360 with 2 Axes>"
      ]
     },
     "metadata": {
      "needs_background": "light"
     },
     "output_type": "display_data"
    },
    {
     "name": "stdout",
     "output_type": "stream",
     "text": [
      "ROC AUC=0.862\n",
      "\n",
      "Time Taken :0.035002708435058594 seconds\n",
      "\n",
      " SMOTE Data\n",
      " 0.679252221881704\n",
      "              precision    recall  f1-score   support\n",
      "\n",
      "           0       0.95      0.38      0.54      8164\n",
      "           1       0.61      0.98      0.75      8151\n",
      "\n",
      "    accuracy                           0.68     16315\n",
      "   macro avg       0.78      0.68      0.65     16315\n",
      "weighted avg       0.78      0.68      0.65     16315\n",
      "\n",
      "[[3110 5054]\n",
      " [ 179 7972]]\n"
     ]
    },
    {
     "data": {
      "image/png": "[encoded data removed]",
      "text/plain": [
       "<Figure size 360x360 with 2 Axes>"
      ]
     },
     "metadata": {
      "needs_background": "light"
     },
     "output_type": "display_data"
    },
    {
     "name": "stdout",
     "output_type": "stream",
     "text": [
      "ROC AUC=0.821\n",
      "\n",
      "Time Taken :0.04103350639343262 seconds\n",
      "\n",
      " SMOTETomek Data\n",
      " 0.6909481126120439\n",
      "              precision    recall  f1-score   support\n",
      "\n",
      "           0       0.94      0.41      0.57      7931\n",
      "           1       0.62      0.97      0.76      7911\n",
      "\n",
      "    accuracy                           0.69     15842\n",
      "   macro avg       0.78      0.69      0.66     15842\n",
      "weighted avg       0.78      0.69      0.66     15842\n",
      "\n",
      "[[3255 4676]\n",
      " [ 220 7691]]\n"
     ]
    },
    {
     "data": {
      "image/png": "[encoded data removed]",
      "text/plain": [
       "<Figure size 360x360 with 2 Axes>"
      ]
     },
     "metadata": {
      "needs_background": "light"
     },
     "output_type": "display_data"
    },
    {
     "name": "stdout",
     "output_type": "stream",
     "text": [
      "ROC AUC=0.827\n",
      "\n",
      "Time Taken :0.04503607749938965 seconds\n"
     ]
    }
   ],
   "source": [
    "from sklearn.naive_bayes import GaussianNB\n",
    "nb = GaussianNB()\n",
    "result(nb)"
   ]
  },
  {
   "cell_type": "code",
   "execution_count": 66,
   "id": "95858353",
   "metadata": {},
   "outputs": [
    {
     "name": "stdout",
     "output_type": "stream",
     "text": [
      "\n",
      " Oversampled Data\n",
      " 0.9202574318112167\n",
      "              precision    recall  f1-score   support\n",
      "\n",
      "           0       0.96      0.88      0.92      8164\n",
      "           1       0.89      0.96      0.92      8151\n",
      "\n",
      "    accuracy                           0.92     16315\n",
      "   macro avg       0.92      0.92      0.92     16315\n",
      "weighted avg       0.92      0.92      0.92     16315\n",
      "\n",
      "[[7171  993]\n",
      " [ 308 7843]]\n"
     ]
    },
    {
     "data": {
      "image/png": "[encoded data removed]",
      "text/plain": [
       "<Figure size 360x360 with 2 Axes>"
      ]
     },
     "metadata": {
      "needs_background": "light"
     },
     "output_type": "display_data"
    },
    {
     "name": "stdout",
     "output_type": "stream",
     "text": [
      "ROC AUC=0.979\n",
      "\n",
      "Time Taken :4.191036939620972 seconds\n",
      "\n",
      " Undersampled Data\n",
      " 0.8209041731066461\n",
      "              precision    recall  f1-score   support\n",
      "\n",
      "           0       0.83      0.81      0.82      2597\n",
      "           1       0.81      0.84      0.82      2579\n",
      "\n",
      "    accuracy                           0.82      5176\n",
      "   macro avg       0.82      0.82      0.82      5176\n",
      "weighted avg       0.82      0.82      0.82      5176\n",
      "\n",
      "[[2091  506]\n",
      " [ 421 2158]]\n"
     ]
    },
    {
     "data": {
      "image/png": "[encoded data removed]",
      "text/plain": [
       "<Figure size 360x360 with 2 Axes>"
      ]
     },
     "metadata": {
      "needs_background": "light"
     },
     "output_type": "display_data"
    },
    {
     "name": "stdout",
     "output_type": "stream",
     "text": [
      "ROC AUC=0.908\n",
      "\n",
      "Time Taken :1.3102891445159912 seconds\n",
      "\n",
      " Combined Sampling Data\n",
      " 0.90680119038978\n",
      "              precision    recall  f1-score   support\n",
      "\n",
      "           0       0.95      0.87      0.91      7300\n",
      "           1       0.87      0.94      0.91      6477\n",
      "\n",
      "    accuracy                           0.91     13777\n",
      "   macro avg       0.91      0.91      0.91     13777\n",
      "weighted avg       0.91      0.91      0.91     13777\n",
      "\n",
      "[[6375  925]\n",
      " [ 359 6118]]\n"
     ]
    },
    {
     "data": {
      "image/png": "[encoded data removed]",
      "text/plain": [
       "<Figure size 360x360 with 2 Axes>"
      ]
     },
     "metadata": {
      "needs_background": "light"
     },
     "output_type": "display_data"
    },
    {
     "name": "stdout",
     "output_type": "stream",
     "text": [
      "ROC AUC=0.971\n",
      "\n",
      "Time Taken :3.4143550395965576 seconds\n",
      "\n",
      " SMOTE Data\n",
      " 0.8939626110940851\n",
      "              precision    recall  f1-score   support\n",
      "\n",
      "           0       0.91      0.88      0.89      8164\n",
      "           1       0.88      0.91      0.90      8151\n",
      "\n",
      "    accuracy                           0.89     16315\n",
      "   macro avg       0.89      0.89      0.89     16315\n",
      "weighted avg       0.89      0.89      0.89     16315\n",
      "\n",
      "[[7171  993]\n",
      " [ 737 7414]]\n"
     ]
    },
    {
     "data": {
      "image/png": "[encoded data removed]",
      "text/plain": [
       "<Figure size 360x360 with 2 Axes>"
      ]
     },
     "metadata": {
      "needs_background": "light"
     },
     "output_type": "display_data"
    },
    {
     "name": "stdout",
     "output_type": "stream",
     "text": [
      "ROC AUC=0.961\n",
      "\n",
      "Time Taken :4.573396921157837 seconds\n",
      "\n",
      " SMOTETomek Data\n",
      " 0.9066405756848883\n",
      "              precision    recall  f1-score   support\n",
      "\n",
      "           0       0.92      0.89      0.90      7931\n",
      "           1       0.89      0.93      0.91      7911\n",
      "\n",
      "    accuracy                           0.91     15842\n",
      "   macro avg       0.91      0.91      0.91     15842\n",
      "weighted avg       0.91      0.91      0.91     15842\n",
      "\n",
      "[[7028  903]\n",
      " [ 576 7335]]\n"
     ]
    },
    {
     "data": {
      "image/png": "[encoded data removed]",
      "text/plain": [
       "<Figure size 360x360 with 2 Axes>"
      ]
     },
     "metadata": {
      "needs_background": "light"
     },
     "output_type": "display_data"
    },
    {
     "name": "stdout",
     "output_type": "stream",
     "text": [
      "ROC AUC=0.969\n",
      "\n",
      "Time Taken :4.3325536251068115 seconds\n"
     ]
    }
   ],
   "source": [
    "from sklearn.ensemble import RandomForestClassifier\n",
    "\n",
    "# Create the model with 100 trees\n",
    "rf = RandomForestClassifier(n_estimators=100, \n",
    "                               bootstrap = True,\n",
    "                               max_features = 'sqrt')\n",
    "\n",
    "result(rf)"
   ]
  },
  {
   "cell_type": "code",
   "execution_count": 67,
   "id": "059d4a04",
   "metadata": {},
   "outputs": [
    {
     "name": "stdout",
     "output_type": "stream",
     "text": [
      "Accuracy: 0.84 (+/- 0.00) [Logistic Regression]\n",
      "Accuracy: 0.91 (+/- 0.03) [Random Forest]\n",
      "Accuracy: 0.71 (+/- 0.01) [naive Bayes]\n",
      "Accuracy: 0.87 (+/- 0.01) [Ensemble]\n"
     ]
    }
   ],
   "source": [
    "from sklearn.model_selection import cross_val_score\n",
    "from sklearn.ensemble import VotingClassifier\n",
    "\n",
    "clf1 = LogisticRegression(random_state=1)\n",
    "clf2 = RandomForestClassifier(n_estimators=50, random_state=1)\n",
    "clf3 = GaussianNB()\n",
    "\n",
    "eclf = VotingClassifier(estimators=[('lr', clf1), ('rf', clf2), ('gnb', clf3)], voting='hard')\n",
    "\n",
    "for clf, label in zip([clf1, clf2, clf3, eclf], ['Logistic Regression', 'Random Forest', 'naive Bayes', 'Ensemble']):\n",
    "    scores = cross_val_score(clf, X_smk, y_smk, scoring='accuracy', cv=5)\n",
    "    print(\"Accuracy: %0.2f (+/- %0.2f) [%s]\" % (scores.mean(), scores.std(), label))"
   ]
  },
  {
   "cell_type": "code",
   "execution_count": 68,
   "id": "6d773e70",
   "metadata": {},
   "outputs": [],
   "source": [
    "param_grid = {\n",
    "    'bootstrap': [True,False],\n",
    "    'max_depth': [None, 80, 90, 100, 110],\n",
    "    'max_features': ['auto', 'sqrt'],\n",
    "    'min_samples_leaf': [1, 2, 4],\n",
    "    'min_samples_split': [2, 5, 10],\n",
    "    'n_estimators': [100, 200, 300, 1000]\n",
    "}"
   ]
  },
  {
   "cell_type": "code",
   "execution_count": 69,
   "id": "5988d69c",
   "metadata": {},
   "outputs": [
    {
     "name": "stdout",
     "output_type": "stream",
     "text": [
      "Fitting 3 folds for each of 900 candidates, totalling 2700 fits\n",
      "\n",
      "Time Taken :3892.1297199726105 seconds\n"
     ]
    }
   ],
   "source": [
    "from sklearn.model_selection import GridSearchCV\n",
    "# Create the parameter grid based on the results of random search \n",
    "param_grid = {\n",
    "    'bootstrap': [True,False],\n",
    "    'max_depth': [None, 80, 90, 100, 110],\n",
    "    'max_features': ['auto', 'sqrt'],\n",
    "    'min_samples_leaf': [1, 2, 4],\n",
    "    'min_samples_split': [2, 5, 10],\n",
    "    'n_estimators': [ 100, 200, 300, 400, 500]\n",
    "}\n",
    "\n",
    "\n",
    "# Create a based model\n",
    "rf2 = RandomForestClassifier()\n",
    "#Instantiate the grid search model\n",
    "grid_search = GridSearchCV(estimator = rf2, param_grid = param_grid, cv = 3, n_jobs = -1, verbose = 2)\n",
    "\n",
    "# Fit the grid search to the data\n",
    "X_train, X_test, y_train, y_test = train_test_split(X_ros, y_ros, test_size=0.33, random_state=42)\n",
    "start = time.time()\n",
    "grid_search.fit(X_train, y_train)\n",
    "end = time.time()\n",
    "print(\"\\nTime Taken :\"+ str(end - start) +\" seconds\")\n"
   ]
  },
  {
   "cell_type": "code",
   "execution_count": 70,
   "id": "5c54ae8f",
   "metadata": {},
   "outputs": [
    {
     "data": {
      "text/plain": [
       "{'bootstrap': False,\n",
       " 'max_depth': 110,\n",
       " 'max_features': 'sqrt',\n",
       " 'min_samples_leaf': 1,\n",
       " 'min_samples_split': 5,\n",
       " 'n_estimators': 400}"
      ]
     },
     "execution_count": 70,
     "metadata": {},
     "output_type": "execute_result"
    }
   ],
   "source": [
    "grid_search.best_params_"
   ]
  },
  {
   "cell_type": "code",
   "execution_count": 71,
   "id": "51ed79ae",
   "metadata": {},
   "outputs": [
    {
     "data": {
      "text/plain": [
       "0.901518582254023"
      ]
     },
     "execution_count": 71,
     "metadata": {},
     "output_type": "execute_result"
    }
   ],
   "source": [
    "grid_search.best_score_"
   ]
  },
  {
   "cell_type": "code",
   "execution_count": 72,
   "id": "36a2c97c",
   "metadata": {},
   "outputs": [],
   "source": [
    "rf_ht = RandomForestClassifier(bootstrap = False,     \n",
    "                               max_features ='sqrt',\n",
    "                             max_depth= 110,\n",
    "                            min_samples_leaf= 1,\n",
    "                               min_samples_split= 5,\n",
    "                               n_estimators = 400)\n",
    "start = time.time()\n",
    "rf_ht.fit(X_train, y_train)\n",
    "pred = rf_ht.predict(X_test)\n",
    "\n",
    "end = time.time()"
   ]
  },
  {
   "cell_type": "code",
   "execution_count": 73,
   "id": "1eeffeb5",
   "metadata": {},
   "outputs": [
    {
     "name": "stdout",
     "output_type": "stream",
     "text": [
      "\n",
      " Random Forest Hypertuned OverSampled Data\n",
      " 0.9252221881703954\n",
      "              precision    recall  f1-score   support\n",
      "\n",
      "           0       0.95      0.89      0.92      8164\n",
      "           1       0.90      0.96      0.93      8151\n",
      "\n",
      "    accuracy                           0.93     16315\n",
      "   macro avg       0.93      0.93      0.93     16315\n",
      "weighted avg       0.93      0.93      0.93     16315\n",
      "\n",
      "[[7292  872]\n",
      " [ 348 7803]]\n",
      "ROC AUC=0.978\n",
      "\n",
      "Time Taken :32.337886810302734 seconds\n"
     ]
    }
   ],
   "source": [
    "print(\"\\n Random Forest Hypertuned OverSampled Data\\n\",accuracy_score(y_test,pred))\n",
    "print(classification_report(y_test,pred))\n",
    "print(confusion_matrix(y_test,pred))\n",
    "\n",
    "probs = rf_ht.predict_proba(X_test)\n",
    "preds = probs[:,1]\n",
    "fpr,tpr,threshold = metrics.roc_curve(y_test,preds)\n",
    "roc_auc = metrics.auc(fpr,tpr)\n",
    "print('ROC AUC=%.3f' % (roc_auc))\n",
    "print(\"\\nTime Taken :\"+ str(end - start) +\" seconds\")"
   ]
  },
  {
   "cell_type": "code",
   "execution_count": null,
   "id": "c377e261",
   "metadata": {},
   "outputs": [],
   "source": []
  }
 ],
 "metadata": {
  "kernelspec": {
   "display_name": "Python 3 (ipykernel)",
   "language": "python",
   "name": "python3"
  },
  "language_info": {
   "codemirror_mode": {
    "name": "ipython",
    "version": 3
   },
   "file_extension": ".py",
   "mimetype": "text/x-python",
   "name": "python",
   "nbconvert_exporter": "python",
   "pygments_lexer": "ipython3",
   "version": "3.8.12"
  }
 },
 "nbformat": 4,
 "nbformat_minor": 5
}
